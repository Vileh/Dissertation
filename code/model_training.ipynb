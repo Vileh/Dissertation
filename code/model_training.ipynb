{
  "cells": [
    {
      "cell_type": "code",
      "execution_count": 1,
      "metadata": {},
      "outputs": [],
      "source": [
        "import pandas as pd\n",
        "import numpy as np"
      ]
    },
    {
      "cell_type": "code",
      "execution_count": null,
      "metadata": {},
      "outputs": [],
      "source": [
        "import data_preprocessing as dp\n",
        "\n",
        "# Load split df\n",
        "df = pd.read_csv('../results/splits_trained_on.csv')\n",
        "\n",
        "# Define split columns\n",
        "split_columns = ['time_aware_split', 'encounter_split', 'random_split']\n",
        "\n",
        "# Iterate over each split column and print summary statistics\n",
        "for split_column in split_columns:\n",
        "    dp.print_split_summary(df, split_column)"
      ]
    },
    {
      "cell_type": "code",
      "execution_count": null,
      "metadata": {},
      "outputs": [],
      "source": [
        "label_map, inverse_label_map = dp.get_data_label_map(df)"
      ]
    },
    {
      "cell_type": "markdown",
      "metadata": {
        "id": "7pgkZVUGtlOR"
      },
      "source": [
        "# Training"
      ]
    },
    {
      "cell_type": "code",
      "execution_count": null,
      "metadata": {},
      "outputs": [],
      "source": [
        "from training import arcface_train_loop\n",
        "from training import crossentropy_train_loop\n",
        "import torchvision.transforms as transforms"
      ]
    },
    {
      "cell_type": "markdown",
      "metadata": {},
      "source": [
        "### Base augmentations"
      ]
    },
    {
      "cell_type": "code",
      "execution_count": null,
      "metadata": {},
      "outputs": [],
      "source": [
        "# Base augmentations\n",
        "augmentations = [\n",
        "    transforms.RandomResizedCrop(224, scale=(0.8, 1.0)), \n",
        "    transforms.RandAugment(num_ops=2, magnitude=20)\n",
        "]\n",
        "\n",
        "crossentropy_train_loop(\"crossentropy_base\", augmentations, label_map)\n",
        "arcface_train_loop(\"arcface_base\", augmentations, label_map)"
      ]
    },
    {
      "cell_type": "markdown",
      "metadata": {},
      "source": [
        "### Mixed augmentations"
      ]
    },
    {
      "cell_type": "code",
      "execution_count": null,
      "metadata": {},
      "outputs": [],
      "source": [
        "from training import RandomDistortion"
      ]
    },
    {
      "cell_type": "code",
      "execution_count": null,
      "metadata": {},
      "outputs": [],
      "source": [
        "augmentations = [\n",
        "    RandomDistortion(),\n",
        "    transforms.RandomResizedCrop(224, scale=(0.8, 1.0)),\n",
        "    transforms.RandAugment(num_ops=2, magnitude=20)\n",
        "]\n",
        "\n",
        "crossentropy_train_loop(\"crossentropy_distortion\", augmentations, label_map)\n",
        "arcface_train_loop(\"arcface_distortion\", augmentations, label_map)"
      ]
    }
  ],
  "metadata": {
    "accelerator": "GPU",
    "colab": {
      "gpuType": "T4",
      "provenance": []
    },
    "kernelspec": {
      "display_name": "Python 3",
      "name": "python3"
    },
    "language_info": {
      "codemirror_mode": {
        "name": "ipython",
        "version": 3
      },
      "file_extension": ".py",
      "mimetype": "text/x-python",
      "name": "python",
      "nbconvert_exporter": "python",
      "pygments_lexer": "ipython3",
      "version": "3.9.16"
    }
  },
  "nbformat": 4,
  "nbformat_minor": 0
}
