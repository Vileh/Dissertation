{
 "cells": [
  {
   "cell_type": "code",
   "execution_count": 1,
   "metadata": {},
   "outputs": [],
   "source": [
    "import data_preprocessing as dp"
   ]
  },
  {
   "cell_type": "markdown",
   "metadata": {},
   "source": [
    "# Create"
   ]
  },
  {
   "cell_type": "code",
   "execution_count": 8,
   "metadata": {},
   "outputs": [
    {
     "name": "stdout",
     "output_type": "stream",
     "text": [
      "DATASET SeaTurtleIDHeads: DOWNLOADING STARTED.\n",
      "DATASET SeaTurtleIDHeads: EXTRACTING STARTED.\n",
      "DATASET SeaTurtleIDHeads: FINISHED.\n",
      "\n"
     ]
    }
   ],
   "source": [
    "# Create splits\n",
    "df = dp.create_splits_dataframe()\n",
    "\n",
    "# Export splits\n",
    "df.to_csv(\"../results/splits_df.csv\", index=False)\n",
    "\n",
    "# Split images into folders\n",
    "dp.split_into_folders(df, 'splits')"
   ]
  },
  {
   "cell_type": "markdown",
   "metadata": {},
   "source": [
    "# Load "
   ]
  },
  {
   "cell_type": "code",
   "execution_count": 2,
   "metadata": {},
   "outputs": [
    {
     "name": "stdout",
     "output_type": "stream",
     "text": [
      "DATASET SeaTurtleIDHeads: DOWNLOADING STARTED.\n",
      "You are trying to download an already downloaded dataset.\n",
      "        This message may have happened to due interrupted download or extract.\n",
      "        To force the download use the `force=True` keyword such as\n",
      "        get_data(..., force=True) or download(..., force=True).\n",
      "        \n"
     ]
    }
   ],
   "source": [
    "import pandas as pd\n",
    "\n",
    "dp.download_heads_dataset()\n",
    "\n",
    "df = pd.read_csv(\"../results/splits_trained_on.csv\")\n",
    "\n",
    "# Split images into folders\n",
    "dp.split_into_folders(df, 'splits')"
   ]
  }
 ],
 "metadata": {
  "kernelspec": {
   "display_name": "tf",
   "language": "python",
   "name": "python3"
  },
  "language_info": {
   "codemirror_mode": {
    "name": "ipython",
    "version": 3
   },
   "file_extension": ".py",
   "mimetype": "text/x-python",
   "name": "python",
   "nbconvert_exporter": "python",
   "pygments_lexer": "ipython3",
   "version": "3.9.16"
  }
 },
 "nbformat": 4,
 "nbformat_minor": 2
}
